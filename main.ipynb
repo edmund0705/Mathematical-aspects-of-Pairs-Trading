{
 "cells": [
  {
   "cell_type": "markdown",
   "metadata": {},
   "source": [
    "# Trading strategy"
   ]
  },
  {
   "cell_type": "markdown",
   "metadata": {},
   "source": [
    "1. Distinguish industry category.\n",
    "2. Cointegration test, the p-value of the following three tests must below 0.05\n",
    "    - Augmented Dickey Fuller\n",
    "    - Phillips-Perron\n",
    "    - Kwiatkowski-Phillips-Schmidt-Shin\n",
    "3. Calculate the hedge ratio through linear regression\n",
    "    - It should be rolling window.\n",
    "    - Using simple split right now.\n",
    "4. Backtest for five years for 2021."
   ]
  },
  {
   "cell_type": "markdown",
   "metadata": {},
   "source": [
    "# Import packages"
   ]
  },
  {
   "cell_type": "code",
   "execution_count": 1,
   "metadata": {},
   "outputs": [
    {
     "name": "stdout",
     "output_type": "stream",
     "text": [
      "輸入成功!\n"
     ]
    }
   ],
   "source": [
    "import finlab\n",
    "# Read the API key from the text file\n",
    "with open('credential.txt', 'r') as file:\n",
    "    api_key = file.readline().strip()\n",
    "\n",
    "# Use the API key to log in\n",
    "finlab.login(api_key)"
   ]
  },
  {
   "cell_type": "code",
   "execution_count": 2,
   "metadata": {},
   "outputs": [],
   "source": [
    "from finlab import data\n",
    "from finlab.backtest import sim"
   ]
  },
  {
   "cell_type": "code",
   "execution_count": 3,
   "metadata": {},
   "outputs": [],
   "source": [
    "import pandas as pd\n",
    "import numpy as np\n",
    "\n",
    "import warnings\n",
    "import itertools\n",
    "\n",
    "import statsmodels.api as sm\n",
    "from statsmodels.regression.linear_model import OLS"
   ]
  },
  {
   "cell_type": "markdown",
   "metadata": {},
   "source": [
    "# Function"
   ]
  },
  {
   "cell_type": "markdown",
   "metadata": {},
   "source": [
    "### 分產業類別"
   ]
  },
  {
   "cell_type": "code",
   "execution_count": 4,
   "metadata": {},
   "outputs": [],
   "source": [
    "def get_same_industry_pairs(price_data):\n",
    "    pairs = []\n",
    "    unique_industries = price_data['產業類別'].unique()\n",
    "    \n",
    "    for industry in unique_industries:\n",
    "        industry_data = price_data[price_data['產業類別'] == industry]\n",
    "        stocks = industry_data['證券代碼'].unique()\n",
    "        \n",
    "        # Create all possible pairs within the industry\n",
    "        for i in range(len(stocks)):\n",
    "            for j in range(i + 1, len(stocks)):\n",
    "                pairs.append((stocks[i], stocks[j]))\n",
    "    \n",
    "    return pairs"
   ]
  },
  {
   "cell_type": "markdown",
   "metadata": {},
   "source": [
    "### Slice the stocks price for the specific period."
   ]
  },
  {
   "cell_type": "code",
   "execution_count": 5,
   "metadata": {},
   "outputs": [],
   "source": [
    "def get_price_for_period(dataframe, start_year, end_year):\n",
    "    df_copy = dataframe.copy()\n",
    "\n",
    "    # 創建時間段\n",
    "    start_date = f\"{start_year}-01-01\"\n",
    "    end_date = f\"{end_year}-12-31\"\n",
    "\n",
    "    # 確保日期列是日期的時間格式\n",
    "    df_copy['Date'] = pd.to_datetime(df_copy['Date'])\n",
    "\n",
    "    # 篩選出指定時間段內的數據\n",
    "    filtered_data = df_copy[(df_copy['Date'] >= start_date) & (df_copy['Date'] <= end_date)]\n",
    "    filtered_data = filtered_data['收盤價(元)']\n",
    "    filtered_data = filtered_data.reset_index(drop=True)\n",
    "\n",
    "    return filtered_data"
   ]
  },
  {
   "cell_type": "markdown",
   "metadata": {},
   "source": [
    "### Cointegration test"
   ]
  },
  {
   "cell_type": "code",
   "execution_count": 6,
   "metadata": {},
   "outputs": [],
   "source": [
    "def adfuller_test(stock1, stock2):\n",
    "    # Align two srtocks\n",
    "    stock1, stock2 = stock1.align(stock2, join='inner')\n",
    "\n",
    "    # linear regression\n",
    "    model = sm.OLS(stock1, sm.add_constant(stock2)).fit()\n",
    "    residuals = model.resid\n",
    "\n",
    "    # ad-fuller test\n",
    "    adf_test = sm.tsa.adfuller(residuals)\n",
    "    p_value = adf_test[1]\n",
    "\n",
    "    return p_value"
   ]
  },
  {
   "cell_type": "code",
   "execution_count": 7,
   "metadata": {},
   "outputs": [],
   "source": [
    "def pp_test(stock1, stock2):\n",
    "    # Align two srtocks\n",
    "    stock1, stock2 = stock1.align(stock2, join='inner')\n",
    "\n",
    "    # linear regression\n",
    "    model = sm.OLS(stock1, sm.add_constant(stock2)).fit()\n",
    "    residuals = model.resid\n",
    "\n",
    "    # Phillips-Perron test\n",
    "    pp_test = sm.tsa.adfuller(residuals, regression='ct')\n",
    "    p_value = pp_test[1]\n",
    "\n",
    "    return p_value"
   ]
  },
  {
   "cell_type": "code",
   "execution_count": 8,
   "metadata": {},
   "outputs": [],
   "source": [
    "def kpss_test(stock1, stock2):\n",
    "    # Align two srtocks\n",
    "    stock1, stock2 = stock1.align(stock2, join='inner')\n",
    "\n",
    "    # linear regression\n",
    "    model = sm.OLS(stock1, sm.add_constant(stock2)).fit()\n",
    "    residuals = model.resid\n",
    "\n",
    "    # KPSS test\n",
    "    kpss_test = sm.tsa.kpss(residuals)\n",
    "    p_value = kpss_test[1]\n",
    "\n",
    "    return p_value"
   ]
  },
  {
   "cell_type": "markdown",
   "metadata": {},
   "source": [
    "### Calculate hedge ratio."
   ]
  },
  {
   "cell_type": "code",
   "execution_count": 9,
   "metadata": {},
   "outputs": [],
   "source": [
    "def calculate_hedge_ratio(stock1_prices, stock2_prices):\n",
    "    # Align the data to ensure both series have the same length\n",
    "    stock1_prices, stock2_prices = stock1_prices.align(stock2_prices, join='inner')\n",
    "    \n",
    "    # Remove NaN and infinite values\n",
    "    valid_data = pd.DataFrame({'stock1': stock1_prices, 'stock2': stock2_prices})\n",
    "    valid_data = valid_data.replace([np.inf, -np.inf], np.nan).dropna()\n",
    "\n",
    "    # Extract cleaned prices\n",
    "    clean_stock1_prices = valid_data['stock1']\n",
    "    clean_stock2_prices = valid_data['stock2']\n",
    "\n",
    "    # Perform linear regression: stock1_prices ~ stock2_prices\n",
    "    model = OLS(clean_stock1_prices, sm.add_constant(clean_stock2_prices)).fit()\n",
    "\n",
    "    # The hedge ratio is the slope of the regression line\n",
    "    hedge_ratio = model.params[1]\n",
    "\n",
    "    return hedge_ratio"
   ]
  },
  {
   "cell_type": "markdown",
   "metadata": {},
   "source": [
    "### Calculate spread and std."
   ]
  },
  {
   "cell_type": "code",
   "execution_count": 10,
   "metadata": {},
   "outputs": [],
   "source": [
    "def compute_spread_and_std(stock1_prices, stock2_prices, hedge_ratio, window= 60):\n",
    "    stock1_prices, stock2_prices = stock1_prices.align(stock2_prices, join='inner')\n",
    "    # Remove NaN and infinite values\n",
    "    valid_data = pd.DataFrame({'stock1': stock1_prices, 'stock2': stock2_prices})\n",
    "    valid_data = valid_data.replace([np.inf, -np.inf], np.nan).dropna()\n",
    "\n",
    "    valid_data['spread'] = valid_data['stock1'] - hedge_ratio * valid_data['stock2']\n",
    "    \n",
    "    # Calculate the mean and the standard deviation over the years\n",
    "    valid_data['mean'] = valid_data['spread'].rolling(window).mean()\n",
    "    valid_data['rolling_std'] = valid_data['spread'].rolling(window).std()\n",
    "    \n",
    "    # Return a DataFrame with spread and rolling standard deviation\n",
    "    return valid_data"
   ]
  },
  {
   "cell_type": "markdown",
   "metadata": {},
   "source": [
    "### Generate Entry and Exit Signals."
   ]
  },
  {
   "cell_type": "code",
   "execution_count": 11,
   "metadata": {},
   "outputs": [],
   "source": [
    "def generate_signals(valid_data, threshold=1.5):\n",
    "    # Set a column called 'signal'\n",
    "    valid_data['signal'] = np.where(valid_data['spread'] > valid_data['mean'] + threshold * valid_data['rolling_std'], True, \n",
    "                                    np.where(valid_data['spread'] < valid_data['mean'] - threshold * valid_data['rolling_std'], True, False))\n",
    "    valid_data['signal'] = valid_data['signal'].shift(1)\n",
    "    valid_data['signal'] = valid_data['signal'].fillna(False)\n",
    "    \n",
    "    return valid_data"
   ]
  },
  {
   "cell_type": "markdown",
   "metadata": {},
   "source": [
    "### Position"
   ]
  },
  {
   "cell_type": "code",
   "execution_count": 12,
   "metadata": {},
   "outputs": [],
   "source": [
    "def generate_position(valid_data, stock1, stock2):\n",
    "    # If stock1 is overvalued, we short stock1 and long stock2\n",
    "    valid_data['position_stock1'] = np.where(valid_data['signal'] == True,\n",
    "                                             np.where(valid_data['stock1'] > valid_data['stock2'], 1, -1), # 做空高估的股票\n",
    "                                             False)\n",
    "    valid_data['position_stock2'] = np.where(valid_data['signal'] == True,\n",
    "                                             np.where(valid_data['stock1'] > valid_data['stock2'], -1, 1), # 做多低估的股票\n",
    "                                             False)\n",
    "    \n",
    "    position = valid_data[['position_stock1', 'position_stock2']]\n",
    "    position = position.rename(columns={'position_stock1': stock1, 'position_stock2': stock2})\n",
    "    \n",
    "    return position"
   ]
  },
  {
   "cell_type": "markdown",
   "metadata": {},
   "source": [
    "# 主程式碼"
   ]
  },
  {
   "cell_type": "markdown",
   "metadata": {},
   "source": [
    "## 定義年份"
   ]
  },
  {
   "cell_type": "code",
   "execution_count": 13,
   "metadata": {},
   "outputs": [],
   "source": [
    "CONST_START_YEAR = 2008 # Set the global variable for the year."
   ]
  },
  {
   "cell_type": "markdown",
   "metadata": {},
   "source": [
    "## 抓資料"
   ]
  },
  {
   "cell_type": "code",
   "execution_count": 14,
   "metadata": {},
   "outputs": [
    {
     "name": "stderr",
     "output_type": "stream",
     "text": [
      "Your version is 1.2.14, please install a newer version.\n",
      "Use \"pip install finlab==1.2.15\" to update the latest version.\n"
     ]
    }
   ],
   "source": [
    "close=data.get(\"price:收盤價\")\n",
    "\n",
    "# 取得 OHLC 直式格式\n",
    "\n",
    "price = close.T.stack().reset_index()\n",
    "price.columns = [\"證券代碼\", \"Date\", \"收盤價(元)\"]"
   ]
  },
  {
   "cell_type": "code",
   "execution_count": 15,
   "metadata": {},
   "outputs": [
    {
     "data": {
      "text/html": [
       "<div>\n",
       "<style scoped>\n",
       "    .dataframe tbody tr th:only-of-type {\n",
       "        vertical-align: middle;\n",
       "    }\n",
       "\n",
       "    .dataframe tbody tr th {\n",
       "        vertical-align: top;\n",
       "    }\n",
       "\n",
       "    .dataframe thead th {\n",
       "        text-align: right;\n",
       "    }\n",
       "</style>\n",
       "<table border=\"1\" class=\"dataframe\">\n",
       "  <thead>\n",
       "    <tr style=\"text-align: right;\">\n",
       "      <th></th>\n",
       "      <th>證券代碼</th>\n",
       "      <th>Date</th>\n",
       "      <th>收盤價(元)</th>\n",
       "    </tr>\n",
       "  </thead>\n",
       "  <tbody>\n",
       "    <tr>\n",
       "      <th>0</th>\n",
       "      <td>0015</td>\n",
       "      <td>2007-04-23</td>\n",
       "      <td>9.54</td>\n",
       "    </tr>\n",
       "    <tr>\n",
       "      <th>1</th>\n",
       "      <td>0015</td>\n",
       "      <td>2007-04-24</td>\n",
       "      <td>9.54</td>\n",
       "    </tr>\n",
       "    <tr>\n",
       "      <th>2</th>\n",
       "      <td>0015</td>\n",
       "      <td>2007-04-25</td>\n",
       "      <td>9.52</td>\n",
       "    </tr>\n",
       "    <tr>\n",
       "      <th>3</th>\n",
       "      <td>0015</td>\n",
       "      <td>2007-04-26</td>\n",
       "      <td>9.59</td>\n",
       "    </tr>\n",
       "    <tr>\n",
       "      <th>4</th>\n",
       "      <td>0015</td>\n",
       "      <td>2007-04-27</td>\n",
       "      <td>9.55</td>\n",
       "    </tr>\n",
       "    <tr>\n",
       "      <th>...</th>\n",
       "      <td>...</td>\n",
       "      <td>...</td>\n",
       "      <td>...</td>\n",
       "    </tr>\n",
       "    <tr>\n",
       "      <th>7098352</th>\n",
       "      <td>9962</td>\n",
       "      <td>2024-09-24</td>\n",
       "      <td>15.60</td>\n",
       "    </tr>\n",
       "    <tr>\n",
       "      <th>7098353</th>\n",
       "      <td>9962</td>\n",
       "      <td>2024-09-25</td>\n",
       "      <td>15.50</td>\n",
       "    </tr>\n",
       "    <tr>\n",
       "      <th>7098354</th>\n",
       "      <td>9962</td>\n",
       "      <td>2024-09-26</td>\n",
       "      <td>15.50</td>\n",
       "    </tr>\n",
       "    <tr>\n",
       "      <th>7098355</th>\n",
       "      <td>9962</td>\n",
       "      <td>2024-09-27</td>\n",
       "      <td>16.35</td>\n",
       "    </tr>\n",
       "    <tr>\n",
       "      <th>7098356</th>\n",
       "      <td>9962</td>\n",
       "      <td>2024-09-30</td>\n",
       "      <td>16.95</td>\n",
       "    </tr>\n",
       "  </tbody>\n",
       "</table>\n",
       "<p>7098357 rows × 3 columns</p>\n",
       "</div>"
      ],
      "text/plain": [
       "         證券代碼       Date  收盤價(元)\n",
       "0        0015 2007-04-23    9.54\n",
       "1        0015 2007-04-24    9.54\n",
       "2        0015 2007-04-25    9.52\n",
       "3        0015 2007-04-26    9.59\n",
       "4        0015 2007-04-27    9.55\n",
       "...       ...        ...     ...\n",
       "7098352  9962 2024-09-24   15.60\n",
       "7098353  9962 2024-09-25   15.50\n",
       "7098354  9962 2024-09-26   15.50\n",
       "7098355  9962 2024-09-27   16.35\n",
       "7098356  9962 2024-09-30   16.95\n",
       "\n",
       "[7098357 rows x 3 columns]"
      ]
     },
     "execution_count": 15,
     "metadata": {},
     "output_type": "execute_result"
    }
   ],
   "source": [
    "price"
   ]
  },
  {
   "cell_type": "code",
   "execution_count": 16,
   "metadata": {},
   "outputs": [
    {
     "name": "stdout",
     "output_type": "stream",
     "text": [
      "Daily usage: 23.9 / 5000 MB - company_basic_info\n"
     ]
    }
   ],
   "source": [
    "industry = data.get('company_basic_info')[['stock_id', '產業類別']]\n",
    "industry.rename(columns= {'stock_id': '證券代碼', '產業類別': 'category'}, inplace= True)"
   ]
  },
  {
   "cell_type": "code",
   "execution_count": 17,
   "metadata": {},
   "outputs": [],
   "source": [
    "# industry = data.get(\"security_industry_themes\")\n",
    "# industry.rename(columns = {\"stock_id\": \"證券代碼\"}, inplace = True)\n",
    "# # industry"
   ]
  },
  {
   "cell_type": "code",
   "execution_count": 18,
   "metadata": {},
   "outputs": [],
   "source": [
    "# # 假設 industry 是你的 DataFrame\n",
    "# result = industry.groupby('category').agg(\n",
    "#     stock_id_list=('stock_id', lambda x: list(x)),\n",
    "#     name_list=('name', lambda x: list(x)),\n",
    "#     count=('stock_id', 'count')\n",
    "# ).reset_index()\n",
    "\n",
    "# # 顯示結果\n",
    "# result"
   ]
  },
  {
   "cell_type": "code",
   "execution_count": 19,
   "metadata": {},
   "outputs": [
    {
     "data": {
      "text/html": [
       "<div>\n",
       "<style scoped>\n",
       "    .dataframe tbody tr th:only-of-type {\n",
       "        vertical-align: middle;\n",
       "    }\n",
       "\n",
       "    .dataframe tbody tr th {\n",
       "        vertical-align: top;\n",
       "    }\n",
       "\n",
       "    .dataframe thead th {\n",
       "        text-align: right;\n",
       "    }\n",
       "</style>\n",
       "<table border=\"1\" class=\"dataframe\">\n",
       "  <thead>\n",
       "    <tr style=\"text-align: right;\">\n",
       "      <th></th>\n",
       "      <th>證券代碼</th>\n",
       "      <th>Date</th>\n",
       "      <th>收盤價(元)</th>\n",
       "      <th>category</th>\n",
       "    </tr>\n",
       "  </thead>\n",
       "  <tbody>\n",
       "    <tr>\n",
       "      <th>0</th>\n",
       "      <td>1101</td>\n",
       "      <td>2007-04-23</td>\n",
       "      <td>29.60</td>\n",
       "      <td>水泥工業</td>\n",
       "    </tr>\n",
       "    <tr>\n",
       "      <th>1</th>\n",
       "      <td>1101</td>\n",
       "      <td>2007-04-24</td>\n",
       "      <td>30.25</td>\n",
       "      <td>水泥工業</td>\n",
       "    </tr>\n",
       "    <tr>\n",
       "      <th>2</th>\n",
       "      <td>1101</td>\n",
       "      <td>2007-04-25</td>\n",
       "      <td>29.65</td>\n",
       "      <td>水泥工業</td>\n",
       "    </tr>\n",
       "    <tr>\n",
       "      <th>3</th>\n",
       "      <td>1101</td>\n",
       "      <td>2007-04-26</td>\n",
       "      <td>29.65</td>\n",
       "      <td>水泥工業</td>\n",
       "    </tr>\n",
       "    <tr>\n",
       "      <th>4</th>\n",
       "      <td>1101</td>\n",
       "      <td>2007-04-27</td>\n",
       "      <td>30.35</td>\n",
       "      <td>水泥工業</td>\n",
       "    </tr>\n",
       "    <tr>\n",
       "      <th>...</th>\n",
       "      <td>...</td>\n",
       "      <td>...</td>\n",
       "      <td>...</td>\n",
       "      <td>...</td>\n",
       "    </tr>\n",
       "    <tr>\n",
       "      <th>6549005</th>\n",
       "      <td>9962</td>\n",
       "      <td>2024-09-24</td>\n",
       "      <td>15.60</td>\n",
       "      <td>鋼鐵工業</td>\n",
       "    </tr>\n",
       "    <tr>\n",
       "      <th>6549006</th>\n",
       "      <td>9962</td>\n",
       "      <td>2024-09-25</td>\n",
       "      <td>15.50</td>\n",
       "      <td>鋼鐵工業</td>\n",
       "    </tr>\n",
       "    <tr>\n",
       "      <th>6549007</th>\n",
       "      <td>9962</td>\n",
       "      <td>2024-09-26</td>\n",
       "      <td>15.50</td>\n",
       "      <td>鋼鐵工業</td>\n",
       "    </tr>\n",
       "    <tr>\n",
       "      <th>6549008</th>\n",
       "      <td>9962</td>\n",
       "      <td>2024-09-27</td>\n",
       "      <td>16.35</td>\n",
       "      <td>鋼鐵工業</td>\n",
       "    </tr>\n",
       "    <tr>\n",
       "      <th>6549009</th>\n",
       "      <td>9962</td>\n",
       "      <td>2024-09-30</td>\n",
       "      <td>16.95</td>\n",
       "      <td>鋼鐵工業</td>\n",
       "    </tr>\n",
       "  </tbody>\n",
       "</table>\n",
       "<p>6549010 rows × 4 columns</p>\n",
       "</div>"
      ],
      "text/plain": [
       "         證券代碼       Date  收盤價(元) category\n",
       "0        1101 2007-04-23   29.60     水泥工業\n",
       "1        1101 2007-04-24   30.25     水泥工業\n",
       "2        1101 2007-04-25   29.65     水泥工業\n",
       "3        1101 2007-04-26   29.65     水泥工業\n",
       "4        1101 2007-04-27   30.35     水泥工業\n",
       "...       ...        ...     ...      ...\n",
       "6549005  9962 2024-09-24   15.60     鋼鐵工業\n",
       "6549006  9962 2024-09-25   15.50     鋼鐵工業\n",
       "6549007  9962 2024-09-26   15.50     鋼鐵工業\n",
       "6549008  9962 2024-09-27   16.35     鋼鐵工業\n",
       "6549009  9962 2024-09-30   16.95     鋼鐵工業\n",
       "\n",
       "[6549010 rows x 4 columns]"
      ]
     },
     "execution_count": 19,
     "metadata": {},
     "output_type": "execute_result"
    }
   ],
   "source": [
    "# 篩選出 4 位數字\n",
    "price = price[price[\"證券代碼\"].apply(lambda x: len(str(x)) == 4 and not str(x).startswith(\"00\"))]\n",
    "price = price.merge(industry[['證券代碼', 'category']], on=\"證券代碼\", how=\"left\")\n",
    "df = pd.DataFrame(price)\n",
    "df"
   ]
  },
  {
   "cell_type": "markdown",
   "metadata": {},
   "source": [
    "### Check the stock list"
   ]
  },
  {
   "cell_type": "code",
   "execution_count": 20,
   "metadata": {},
   "outputs": [
    {
     "name": "stdout",
     "output_type": "stream",
     "text": [
      "不同的股票代碼总数: 2087\n"
     ]
    }
   ],
   "source": [
    "stock_code_list = []\n",
    "\n",
    "stock_codes_set = set()\n",
    "\n",
    "for code in df['證券代碼']:\n",
    "    stock_codes_set.add(code)\n",
    "\n",
    "stock_code_list = list(sorted(stock_codes_set))\n",
    "\n",
    "print(\"不同的股票代碼总数:\", len(stock_code_list))"
   ]
  },
  {
   "cell_type": "markdown",
   "metadata": {},
   "source": [
    "## Cointegration test"
   ]
  },
  {
   "cell_type": "code",
   "execution_count": 21,
   "metadata": {},
   "outputs": [],
   "source": [
    "df.dropna(subset=['category'], inplace=True)\n",
    "unique_industries = list(df['category'].unique())"
   ]
  },
  {
   "cell_type": "code",
   "execution_count": 22,
   "metadata": {},
   "outputs": [
    {
     "data": {
      "text/plain": [
       "['水泥工業',\n",
       " '食品工業',\n",
       " '農業科技',\n",
       " '觀光餐旅',\n",
       " '塑膠工業',\n",
       " '建材營造',\n",
       " '汽車工業',\n",
       " '電子零組件業',\n",
       " '其他',\n",
       " '紡織纖維',\n",
       " '運動休閒',\n",
       " '電機機械',\n",
       " '生技醫療業',\n",
       " '電腦及週邊設備業',\n",
       " '電器電纜',\n",
       " '化學工業',\n",
       " '其他電子業',\n",
       " '玻璃陶瓷',\n",
       " '造紙工業',\n",
       " '鋼鐵工業',\n",
       " '居家生活',\n",
       " '橡膠工業',\n",
       " '航運業',\n",
       " '半導體業',\n",
       " '通信網路業',\n",
       " '光電業',\n",
       " '電子通路業',\n",
       " '資訊服務業',\n",
       " '貿易百貨',\n",
       " '油電燃氣業',\n",
       " '數位雲端',\n",
       " '金融保險業',\n",
       " '文化創意業',\n",
       " '綠能環保',\n",
       " '金融業',\n",
       " '存託憑證']"
      ]
     },
     "execution_count": 22,
     "metadata": {},
     "output_type": "execute_result"
    }
   ],
   "source": [
    "unique_industries"
   ]
  },
  {
   "cell_type": "code",
   "execution_count": 23,
   "metadata": {},
   "outputs": [
    {
     "name": "stdout",
     "output_type": "stream",
     "text": [
      "===========================正在處理 2019 年的 stock pairs===========================\n",
      "正在處理 水泥工業 這個產業\n",
      "正在處理 食品工業 這個產業\n",
      "正在處理 農業科技 這個產業\n",
      "正在處理 觀光餐旅 這個產業\n",
      "正在處理 塑膠工業 這個產業\n",
      "正在處理 建材營造 這個產業\n",
      "正在處理 汽車工業 這個產業\n",
      "正在處理 電子零組件業 這個產業\n",
      "正在處理 其他 這個產業\n",
      "正在處理 紡織纖維 這個產業\n",
      "正在處理 運動休閒 這個產業\n",
      "正在處理 電機機械 這個產業\n",
      "正在處理 生技醫療業 這個產業\n",
      "正在處理 電腦及週邊設備業 這個產業\n",
      "正在處理 電器電纜 這個產業\n",
      "正在處理 化學工業 這個產業\n",
      "正在處理 其他電子業 這個產業\n",
      "正在處理 玻璃陶瓷 這個產業\n",
      "正在處理 造紙工業 這個產業\n",
      "正在處理 鋼鐵工業 這個產業\n",
      "正在處理 居家生活 這個產業\n",
      "正在處理 橡膠工業 這個產業\n",
      "正在處理 航運業 這個產業\n",
      "正在處理 半導體業 這個產業\n",
      "正在處理 通信網路業 這個產業\n",
      "正在處理 光電業 這個產業\n",
      "正在處理 電子通路業 這個產業\n",
      "正在處理 資訊服務業 這個產業\n",
      "正在處理 貿易百貨 這個產業\n",
      "正在處理 油電燃氣業 這個產業\n",
      "正在處理 數位雲端 這個產業\n",
      "正在處理 金融保險業 這個產業\n",
      "正在處理 文化創意業 這個產業\n",
      "正在處理 綠能環保 這個產業\n",
      "正在處理 金融業 這個產業\n",
      "正在處理 存託憑證 這個產業\n",
      "===========================正在處理 2020 年的 stock pairs===========================\n",
      "正在處理 水泥工業 這個產業\n",
      "正在處理 食品工業 這個產業\n",
      "正在處理 農業科技 這個產業\n",
      "正在處理 觀光餐旅 這個產業\n",
      "正在處理 塑膠工業 這個產業\n",
      "正在處理 建材營造 這個產業\n",
      "正在處理 汽車工業 這個產業\n",
      "正在處理 電子零組件業 這個產業\n",
      "正在處理 其他 這個產業\n",
      "正在處理 紡織纖維 這個產業\n",
      "正在處理 運動休閒 這個產業\n",
      "正在處理 電機機械 這個產業\n",
      "正在處理 生技醫療業 這個產業\n",
      "正在處理 電腦及週邊設備業 這個產業\n",
      "正在處理 電器電纜 這個產業\n",
      "正在處理 化學工業 這個產業\n",
      "正在處理 其他電子業 這個產業\n",
      "正在處理 玻璃陶瓷 這個產業\n",
      "正在處理 造紙工業 這個產業\n",
      "正在處理 鋼鐵工業 這個產業\n",
      "正在處理 居家生活 這個產業\n",
      "正在處理 橡膠工業 這個產業\n",
      "正在處理 航運業 這個產業\n",
      "正在處理 半導體業 這個產業\n",
      "正在處理 通信網路業 這個產業\n",
      "正在處理 光電業 這個產業\n",
      "正在處理 電子通路業 這個產業\n",
      "正在處理 資訊服務業 這個產業\n",
      "正在處理 貿易百貨 這個產業\n",
      "正在處理 油電燃氣業 這個產業\n",
      "正在處理 數位雲端 這個產業\n",
      "正在處理 金融保險業 這個產業\n",
      "正在處理 文化創意業 這個產業\n",
      "正在處理 綠能環保 這個產業\n",
      "正在處理 金融業 這個產業\n",
      "正在處理 存託憑證 這個產業\n",
      "===========================正在處理 2021 年的 stock pairs===========================\n",
      "正在處理 水泥工業 這個產業\n",
      "正在處理 食品工業 這個產業\n",
      "正在處理 農業科技 這個產業\n",
      "正在處理 觀光餐旅 這個產業\n",
      "正在處理 塑膠工業 這個產業\n",
      "正在處理 建材營造 這個產業\n",
      "正在處理 汽車工業 這個產業\n",
      "正在處理 電子零組件業 這個產業\n",
      "正在處理 其他 這個產業\n",
      "正在處理 紡織纖維 這個產業\n",
      "正在處理 運動休閒 這個產業\n",
      "正在處理 電機機械 這個產業\n",
      "正在處理 生技醫療業 這個產業\n",
      "正在處理 電腦及週邊設備業 這個產業\n",
      "正在處理 電器電纜 這個產業\n",
      "正在處理 化學工業 這個產業\n",
      "正在處理 其他電子業 這個產業\n",
      "正在處理 玻璃陶瓷 這個產業\n",
      "正在處理 造紙工業 這個產業\n",
      "正在處理 鋼鐵工業 這個產業\n",
      "正在處理 居家生活 這個產業\n",
      "正在處理 橡膠工業 這個產業\n",
      "正在處理 航運業 這個產業\n",
      "正在處理 半導體業 這個產業\n",
      "正在處理 通信網路業 這個產業\n",
      "正在處理 光電業 這個產業\n",
      "正在處理 電子通路業 這個產業\n",
      "正在處理 資訊服務業 這個產業\n",
      "正在處理 貿易百貨 這個產業\n",
      "正在處理 油電燃氣業 這個產業\n",
      "正在處理 數位雲端 這個產業\n",
      "正在處理 金融保險業 這個產業\n",
      "正在處理 文化創意業 這個產業\n",
      "正在處理 綠能環保 這個產業\n",
      "正在處理 金融業 這個產業\n",
      "正在處理 存託憑證 這個產業\n",
      "===========================正在處理 2022 年的 stock pairs===========================\n",
      "正在處理 水泥工業 這個產業\n",
      "正在處理 食品工業 這個產業\n",
      "正在處理 農業科技 這個產業\n",
      "正在處理 觀光餐旅 這個產業\n",
      "正在處理 塑膠工業 這個產業\n",
      "正在處理 建材營造 這個產業\n",
      "正在處理 汽車工業 這個產業\n",
      "正在處理 電子零組件業 這個產業\n",
      "正在處理 其他 這個產業\n",
      "正在處理 紡織纖維 這個產業\n",
      "正在處理 運動休閒 這個產業\n",
      "正在處理 電機機械 這個產業\n",
      "正在處理 生技醫療業 這個產業\n",
      "正在處理 電腦及週邊設備業 這個產業\n",
      "正在處理 電器電纜 這個產業\n",
      "正在處理 化學工業 這個產業\n",
      "正在處理 其他電子業 這個產業\n",
      "正在處理 玻璃陶瓷 這個產業\n",
      "正在處理 造紙工業 這個產業\n",
      "正在處理 鋼鐵工業 這個產業\n",
      "正在處理 居家生活 這個產業\n",
      "正在處理 橡膠工業 這個產業\n",
      "正在處理 航運業 這個產業\n",
      "正在處理 半導體業 這個產業\n",
      "正在處理 通信網路業 這個產業\n",
      "正在處理 光電業 這個產業\n",
      "正在處理 電子通路業 這個產業\n",
      "正在處理 資訊服務業 這個產業\n",
      "正在處理 貿易百貨 這個產業\n",
      "正在處理 油電燃氣業 這個產業\n",
      "正在處理 數位雲端 這個產業\n",
      "正在處理 金融保險業 這個產業\n",
      "正在處理 文化創意業 這個產業\n",
      "正在處理 綠能環保 這個產業\n",
      "正在處理 金融業 這個產業\n",
      "正在處理 存託憑證 這個產業\n",
      "===========================正在處理 2023 年的 stock pairs===========================\n",
      "正在處理 水泥工業 這個產業\n",
      "正在處理 食品工業 這個產業\n",
      "正在處理 農業科技 這個產業\n",
      "正在處理 觀光餐旅 這個產業\n",
      "正在處理 塑膠工業 這個產業\n",
      "正在處理 建材營造 這個產業\n",
      "正在處理 汽車工業 這個產業\n",
      "正在處理 電子零組件業 這個產業\n",
      "正在處理 其他 這個產業\n",
      "正在處理 紡織纖維 這個產業\n",
      "正在處理 運動休閒 這個產業\n",
      "正在處理 電機機械 這個產業\n",
      "正在處理 生技醫療業 這個產業\n",
      "正在處理 電腦及週邊設備業 這個產業\n",
      "正在處理 電器電纜 這個產業\n",
      "正在處理 化學工業 這個產業\n",
      "正在處理 其他電子業 這個產業\n",
      "正在處理 玻璃陶瓷 這個產業\n",
      "正在處理 造紙工業 這個產業\n",
      "正在處理 鋼鐵工業 這個產業\n",
      "正在處理 居家生活 這個產業\n",
      "正在處理 橡膠工業 這個產業\n",
      "正在處理 航運業 這個產業\n",
      "正在處理 半導體業 這個產業\n",
      "正在處理 通信網路業 這個產業\n",
      "正在處理 光電業 這個產業\n",
      "正在處理 電子通路業 這個產業\n",
      "正在處理 資訊服務業 這個產業\n",
      "正在處理 貿易百貨 這個產業\n",
      "正在處理 油電燃氣業 這個產業\n",
      "正在處理 數位雲端 這個產業\n",
      "正在處理 金融保險業 這個產業\n",
      "正在處理 文化創意業 這個產業\n",
      "正在處理 綠能環保 這個產業\n",
      "正在處理 金融業 這個產業\n",
      "正在處理 存託憑證 這個產業\n"
     ]
    }
   ],
   "source": [
    "warnings.filterwarnings(\"ignore\")\n",
    "\n",
    "for YEAR in range(CONST_START_YEAR + 8, CONST_START_YEAR + 13):  # Example: 2008 ~ 2020\n",
    "    print(f\"===========================正在處理 {YEAR + 3} 年的 stock pairs===========================\")\n",
    "    # Initialize the DataFrame to store chosen pairs and their p-values\n",
    "    final_chosen_pairs = pd.DataFrame(columns=[\n",
    "        'stock1', 'stock2', \n",
    "        'adfuller_p_value_1', 'adfuller_p_value_2', \n",
    "        'pp_p_value_1', 'pp_p_value_2', \n",
    "        'kpss_p_value_1', 'kpss_p_value_2'\n",
    "    ])\n",
    "\n",
    "    for industry in unique_industries:\n",
    "        print(f\"正在處理 {industry} 這個產業\")\n",
    "        # Slice the dataframe to get the specific industry\n",
    "        df_price_industry = df[df['category'] == industry]\n",
    "        # Get the unique stocks in the chosen industry\n",
    "        stocks_in_industry = df_price_industry['證券代碼'].unique()\n",
    "        # Get all possible pairs of stocks in the chosen industry\n",
    "        stock_pairs = list(itertools.combinations(stocks_in_industry, 2))\n",
    "        \n",
    "        for pair in stock_pairs:\n",
    "            stock1, stock2 = pair\n",
    "            df_stock1 = df_price_industry[df_price_industry['證券代碼'] == stock1]\n",
    "            df_stock2 = df_price_industry[df_price_industry['證券代碼'] == stock2]\n",
    "\n",
    "            # Get the stock prices for the specified period\n",
    "            stock1_prices = get_price_for_period(df_stock1, YEAR, YEAR + 2)\n",
    "            stock2_prices = get_price_for_period(df_stock2, YEAR, YEAR + 2)\n",
    "\n",
    "            # Skip if the price data is empty or insufficient\n",
    "            if stock1_prices.empty or stock2_prices.empty:\n",
    "                continue\n",
    "            elif len(stock1_prices) < 600 or len(stock2_prices) < 600:\n",
    "                continue\n",
    "\n",
    "            # Perform cointegration tests\n",
    "            adfuller_p_value_1 = adfuller_test(stock1_prices, stock2_prices)\n",
    "            adfuller_p_value_2 = adfuller_test(stock2_prices, stock1_prices)\n",
    "\n",
    "            pp_p_value_1 = pp_test(stock1_prices, stock2_prices)\n",
    "            pp_p_value_2 = pp_test(stock2_prices, stock1_prices)\n",
    "\n",
    "            kpss_p_value_1 = kpss_test(stock1_prices, stock2_prices)\n",
    "            kpss_p_value_2 = kpss_test(stock2_prices, stock1_prices)\n",
    "\n",
    "            # Condition to check if the p-values meet the criteria\n",
    "            condition = (adfuller_p_value_1 < 0.05 or adfuller_p_value_2 < 0.05) \\\n",
    "                        and (pp_p_value_1 < 0.05 or pp_p_value_2 < 0.05) \\\n",
    "                        and (kpss_p_value_1 < 0.05 or kpss_p_value_2 < 0.05)\n",
    "\n",
    "            # If the condition is met, store this stock pair and p-values\n",
    "            if condition:\n",
    "                temp = pd.DataFrame({\n",
    "                    'stock1': [stock1],\n",
    "                    'stock2': [stock2],\n",
    "                    'adfuller_p_value_1': [adfuller_p_value_1],\n",
    "                    'adfuller_p_value_2': [adfuller_p_value_2],\n",
    "                    'pp_p_value_1': [pp_p_value_1],\n",
    "                    'pp_p_value_2': [pp_p_value_2],\n",
    "                    'kpss_p_value_1': [kpss_p_value_1],\n",
    "                    'kpss_p_value_2': [kpss_p_value_2]\n",
    "                })\n",
    "                final_chosen_pairs = pd.concat([final_chosen_pairs, temp], ignore_index=True)\n",
    "\n",
    "    # Save the results to an Excel file\n",
    "    final_chosen_pairs.to_excel(f'final_chosen_pairs_{YEAR + 3}.xlsx', index=False)"
   ]
  },
  {
   "cell_type": "code",
   "execution_count": 24,
   "metadata": {},
   "outputs": [],
   "source": [
    "# warnings.filterwarnings(\"ignore\")\n",
    "\n",
    "# for YEAR in range(CONST_START_YEAR + 8, CONST_START_YEAR + 13): # 2008 ~ 2020\n",
    "#     print(f\"===========================正在處理 {YEAR + 3} 年的 stock pairs===========================\")\n",
    "#     final_chosen_pairs = pd.DataFrame()\n",
    "#     final_chosen_pairs = pd.DataFrame(columns= ['stock1', 'stock2'])\n",
    "\n",
    "#     for industry in unique_industries:\n",
    "#         print(f\"正在處理 {industry} 這個產業\")\n",
    "#         # Slice the dataframe to get the specific industry\n",
    "#         df_price_industry = df[df['category'] == industry]\n",
    "#         # Get the unique stocks in the chosen industry\n",
    "#         stocks_in_industry = df_price_industry['證券代碼'].unique()\n",
    "#         # Get all possible pairs of stocks in the chosen industry\n",
    "#         stock_pairs = list(itertools.combinations(stocks_in_industry, 2))\n",
    "        \n",
    "#         p_values_dict = {}\n",
    "\n",
    "#         for pair in stock_pairs:\n",
    "#             stock1, stock2 = pair\n",
    "#             df_stock1 = df_price_industry[df_price_industry['證券代碼'] == stock1]\n",
    "#             df_stock2 = df_price_industry[df_price_industry['證券代碼'] == stock2]\n",
    "\n",
    "#             # 取得股票價格數據\n",
    "#             # It should be a rolling window\n",
    "#             stock1_prices = get_price_for_period(df_stock1, YEAR, YEAR + 2)\n",
    "#             stock2_prices = get_price_for_period(df_stock2, YEAR, YEAR + 2)\n",
    "\n",
    "#             if stock1_prices.empty or stock2_prices.empty: # 如果股票價格數據為空，則跳過\n",
    "#                 continue\n",
    "#             elif len(stock1_prices) < 600 or len(stock2_prices) < 600: # 依照年份決定，現在是三年的股票。如果股票價格數據不足 600 個，則跳過。\n",
    "#                 continue\n",
    "\n",
    "#             # cointegration test\n",
    "#             adfuller_p_value_1 = adfuller_test(stock1_prices, stock2_prices)\n",
    "#             adfuller_p_value_2 = adfuller_test(stock2_prices, stock1_prices)\n",
    "\n",
    "#             pp_p_value_1 = pp_test(stock1_prices, stock2_prices)\n",
    "#             pp_p_value_2 = pp_test(stock2_prices, stock1_prices)\n",
    "\n",
    "#             kpss_p_value_1 = kpss_test(stock1_prices, stock2_prices)\n",
    "#             kpss_p_value_2 = kpss_test(stock2_prices, stock1_prices)\n",
    "\n",
    "#             condition = (adfuller_p_value_1 < 0.05 or adfuller_p_value_2 < 0.05) \\\n",
    "#                         and (pp_p_value_1 < 0.05 or pp_p_value_2 < 0.05) \\\n",
    "#                         and (kpss_p_value_1 < 0.05 or kpss_p_value_2 < 0.05)\n",
    "            \n",
    "#             # condition = adfuller_p_value_1 < 0.05 and pp_p_value_1 < 0.05 and kpss_p_value_1 < 0.05\n",
    "\n",
    "#             # 如果兩個 P 值都小於 0.05，則記錄這對股票和它們的 P-value\n",
    "#             if condition:\n",
    "#                 p_values_dict[(stock1, stock2)] = ((adfuller_p_value_1, adfuller_p_value_2), (pp_p_value_1, pp_p_value_2), (kpss_p_value_1, kpss_p_value_2))\n",
    "\n",
    "#         # Find the minimum p-value pair\n",
    "#         if len(p_values_dict) == 0:\n",
    "#             print(f\"在 {industry} 這個產業中，沒有股票對是具有共整合性的\")\n",
    "#         else:\n",
    "#             min_p_value_pair = min(p_values_dict, key= lambda x: max(p_values_dict[x][0] + p_values_dict[x][1] + p_values_dict[x][2]))\n",
    "#             min_p_value = p_values_dict[min_p_value_pair]\n",
    "#             print(f\"在 {industry} 這個產業中，具有最小最大 P 值的股票對是 {min_p_value_pair}，對應的 adfuller p-value 是 {min_p_value[0]} ; pp p-value 是 {min_p_value[1]} ; kpss p-value 是 {min_p_value[2]}\")\n",
    "\n",
    "#             temp = pd.DataFrame()\n",
    "#             temp = pd.DataFrame([min_p_value_pair], columns = ['stock1', 'stock2'])\n",
    "#             final_chosen_pairs = pd.concat([final_chosen_pairs, temp], ignore_index = True)\n",
    "            \n",
    "#     final_chosen_pairs.to_excel(f'final_chosen_pairs_{YEAR + 3}.xlsx', index = False)"
   ]
  }
 ],
 "metadata": {
  "kernelspec": {
   "display_name": "Python 3.9.7 64-bit",
   "language": "python",
   "name": "python3"
  },
  "language_info": {
   "codemirror_mode": {
    "name": "ipython",
    "version": 3
   },
   "file_extension": ".py",
   "mimetype": "text/x-python",
   "name": "python",
   "nbconvert_exporter": "python",
   "pygments_lexer": "ipython3",
   "version": "3.9.7"
  },
  "orig_nbformat": 4,
  "vscode": {
   "interpreter": {
    "hash": "aee8b7b246df8f9039afb4144a1f6fd8d2ca17a180786b69acc140d282b71a49"
   }
  }
 },
 "nbformat": 4,
 "nbformat_minor": 2
}
